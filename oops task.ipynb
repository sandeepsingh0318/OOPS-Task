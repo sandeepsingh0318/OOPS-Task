{
 "cells": [
  {
   "cell_type": "code",
   "execution_count": 1,
   "id": "54bcafd9",
   "metadata": {},
   "outputs": [],
   "source": [
    "#Q1, Create a vehicle class with an init method having instance variables as name_of_vehicle, max_speed\n",
    "#and average_of_vehicle."
   ]
  },
  {
   "cell_type": "code",
   "execution_count": 2,
   "id": "62fd1103",
   "metadata": {},
   "outputs": [],
   "source": [
    "class vehicle():\n",
    "    def __init__(san,vehicle_name,max_speed,avg_of_vehicle):\n",
    "        san.vehicle_name=vehicle_name\n",
    "        san.max_speed=max_speed\n",
    "        san.avg_of_vehicle=avg_of_vehicle\n",
    "    def all_details(san):\n",
    "        return san.vehicle_name,san.max_speed,san.avg_of_vehicle"
   ]
  },
  {
   "cell_type": "code",
   "execution_count": 4,
   "id": "f68348d3",
   "metadata": {},
   "outputs": [],
   "source": [
    "Honda=vehicle('Rider',120,55)"
   ]
  },
  {
   "cell_type": "code",
   "execution_count": 5,
   "id": "b65e648e",
   "metadata": {},
   "outputs": [
    {
     "data": {
      "text/plain": [
       "'Rider'"
      ]
     },
     "execution_count": 5,
     "metadata": {},
     "output_type": "execute_result"
    }
   ],
   "source": [
    "Honda.vehicle_name"
   ]
  },
  {
   "cell_type": "code",
   "execution_count": 6,
   "id": "616793a8",
   "metadata": {},
   "outputs": [
    {
     "data": {
      "text/plain": [
       "120"
      ]
     },
     "execution_count": 6,
     "metadata": {},
     "output_type": "execute_result"
    }
   ],
   "source": [
    "Honda.max_speed"
   ]
  },
  {
   "cell_type": "code",
   "execution_count": 7,
   "id": "d129c780",
   "metadata": {},
   "outputs": [
    {
     "data": {
      "text/plain": [
       "55"
      ]
     },
     "execution_count": 7,
     "metadata": {},
     "output_type": "execute_result"
    }
   ],
   "source": [
    "Honda.avg_of_vehicle"
   ]
  },
  {
   "cell_type": "code",
   "execution_count": 8,
   "id": "b276901b",
   "metadata": {},
   "outputs": [
    {
     "data": {
      "text/plain": [
       "('Rider', 120, 55)"
      ]
     },
     "execution_count": 8,
     "metadata": {},
     "output_type": "execute_result"
    }
   ],
   "source": [
    "Honda.all_details()"
   ]
  },
  {
   "cell_type": "code",
   "execution_count": 9,
   "id": "28696077",
   "metadata": {},
   "outputs": [],
   "source": [
    "#Q2. Create a child class car from the vehicle class created in Que 1, which will inherit the vehicle class.\n",
    "#Create a method named seating_capacity which takes capacity as an argument and returns the name of\n",
    "#the vehicle and its seating capacity."
   ]
  },
  {
   "cell_type": "code",
   "execution_count": 40,
   "id": "8e4ac2a1",
   "metadata": {},
   "outputs": [],
   "source": [
    "class vehicle():\n",
    "    def __init__(san,vehicle_name,max_speed,avg_of_vehicle):\n",
    "        san.vehicle_name=vehicle_name\n",
    "        san.max_speed=max_speed\n",
    "        san.avg_of_vehicle=avg_of_vehicle\n",
    "    def all_details(san):\n",
    "        return san.vehicle_name,san.max_speed,san.avg_of_vehicle\n",
    "class car():\n",
    "     def seating_capacity(san,capacity):\n",
    "            if capacity<=10:\n",
    "                return san.vehicle_name\n",
    "            else:\n",
    "                pass"
   ]
  },
  {
   "cell_type": "code",
   "execution_count": 41,
   "id": "7fe17e29",
   "metadata": {},
   "outputs": [],
   "source": [
    "class vehicle(car):\n",
    "    def __init__(san,vehicle_name,max_speed,avg_of_vehicle):\n",
    "        san.vehicle_name=vehicle_name\n",
    "        san.max_speed=max_speed\n",
    "        san.avg_of_vehicle=avg_of_vehicle\n",
    "    def all_details(san):\n",
    "        return san.vehicle_name,san.max_speed,san.avg_of_vehicle"
   ]
  },
  {
   "cell_type": "code",
   "execution_count": 42,
   "id": "19419e47",
   "metadata": {},
   "outputs": [],
   "source": [
    "a=vehicle('i1o',180,15)"
   ]
  },
  {
   "cell_type": "code",
   "execution_count": 43,
   "id": "f52180cd",
   "metadata": {},
   "outputs": [
    {
     "data": {
      "text/plain": [
       "'i1o'"
      ]
     },
     "execution_count": 43,
     "metadata": {},
     "output_type": "execute_result"
    }
   ],
   "source": [
    "a.seating_capacity(2)"
   ]
  },
  {
   "cell_type": "code",
   "execution_count": 44,
   "id": "a0aa911f",
   "metadata": {},
   "outputs": [
    {
     "data": {
      "text/plain": [
       "'i1o'"
      ]
     },
     "execution_count": 44,
     "metadata": {},
     "output_type": "execute_result"
    }
   ],
   "source": [
    "a.vehicle_name"
   ]
  },
  {
   "cell_type": "code",
   "execution_count": 45,
   "id": "d232ea8d",
   "metadata": {},
   "outputs": [
    {
     "data": {
      "text/plain": [
       "'i1o'"
      ]
     },
     "execution_count": 45,
     "metadata": {},
     "output_type": "execute_result"
    }
   ],
   "source": [
    "a.seating_capacity(4)"
   ]
  },
  {
   "cell_type": "code",
   "execution_count": 46,
   "id": "631aa4eb",
   "metadata": {},
   "outputs": [
    {
     "data": {
      "text/plain": [
       "'i1o'"
      ]
     },
     "execution_count": 46,
     "metadata": {},
     "output_type": "execute_result"
    }
   ],
   "source": [
    "a.vehicle_name"
   ]
  },
  {
   "cell_type": "code",
   "execution_count": 48,
   "id": "f13cee1f",
   "metadata": {},
   "outputs": [],
   "source": [
    "b=vehicle('innova',200,20)"
   ]
  },
  {
   "cell_type": "code",
   "execution_count": 49,
   "id": "47202419",
   "metadata": {},
   "outputs": [
    {
     "data": {
      "text/plain": [
       "'innova'"
      ]
     },
     "execution_count": 49,
     "metadata": {},
     "output_type": "execute_result"
    }
   ],
   "source": [
    "b.seating_capacity(7)"
   ]
  },
  {
   "cell_type": "code",
   "execution_count": 50,
   "id": "823db3f2",
   "metadata": {},
   "outputs": [
    {
     "data": {
      "text/plain": [
       "'i1o'"
      ]
     },
     "execution_count": 50,
     "metadata": {},
     "output_type": "execute_result"
    }
   ],
   "source": [
    "a.seating_capacity(4)"
   ]
  },
  {
   "cell_type": "code",
   "execution_count": 51,
   "id": "6885e3e7",
   "metadata": {},
   "outputs": [],
   "source": [
    "#Q3. What is multiple inheritance? Write a python code to demonstrate multiple inheritance."
   ]
  },
  {
   "cell_type": "code",
   "execution_count": 57,
   "id": "f2ac9945",
   "metadata": {},
   "outputs": [],
   "source": [
    "#sol:- There are two child class and one parent class and the child class inherit the parent class.\n",
    "#the best example of multiple inheritance is family.\n",
    "class father():\n",
    "    def fath_name(san):\n",
    "        return \"my father name is saroj\"\n",
    "class mother():\n",
    "    def moth_name(san):\n",
    "        return 'my mother name is Ramwati'\n",
    "class child(father,mother):\n",
    "    def parent_name(san):\n",
    "        return 'i am son of my family'"
   ]
  },
  {
   "cell_type": "code",
   "execution_count": 58,
   "id": "5fb28a14",
   "metadata": {},
   "outputs": [],
   "source": [
    "sandeep=child()"
   ]
  },
  {
   "cell_type": "code",
   "execution_count": 61,
   "id": "6be94353",
   "metadata": {},
   "outputs": [
    {
     "data": {
      "text/plain": [
       "'my father name is saroj'"
      ]
     },
     "execution_count": 61,
     "metadata": {},
     "output_type": "execute_result"
    }
   ],
   "source": [
    "sandeep.fath_name()"
   ]
  },
  {
   "cell_type": "code",
   "execution_count": 62,
   "id": "8f7bceb6",
   "metadata": {},
   "outputs": [
    {
     "data": {
      "text/plain": [
       "'my mother name is Ramwati'"
      ]
     },
     "execution_count": 62,
     "metadata": {},
     "output_type": "execute_result"
    }
   ],
   "source": [
    "sandeep.moth_name()"
   ]
  },
  {
   "cell_type": "code",
   "execution_count": 63,
   "id": "aeaf2831",
   "metadata": {},
   "outputs": [
    {
     "data": {
      "text/plain": [
       "'i am son of my family'"
      ]
     },
     "execution_count": 63,
     "metadata": {},
     "output_type": "execute_result"
    }
   ],
   "source": [
    "sandeep.parent_name()"
   ]
  },
  {
   "cell_type": "code",
   "execution_count": 64,
   "id": "4f7bac2e",
   "metadata": {},
   "outputs": [],
   "source": [
    "#Q4. What are getter and setter in python? Create a class and create a getter and a setter method in \n",
    "#this class."
   ]
  },
  {
   "cell_type": "code",
   "execution_count": 70,
   "id": "60ba2c80",
   "metadata": {},
   "outputs": [],
   "source": [
    "#sol:- Getter mean to give the permission to access the pravite code by any user.\n",
    "#Setter mean to give the permission to set the any data in code by any user.they give condition on setter.\n",
    "class Teacher():\n",
    "    def __init__(san,name,salary):\n",
    "        san.name=name\n",
    "        san.__salary=salary\n",
    "    @property\n",
    "    def see_salary(san):\n",
    "        return san.__salary\n",
    "    @see_salary.setter\n",
    "    def modify (san,sal):\n",
    "        if sal<=34000:\n",
    "            pass\n",
    "        else:\n",
    "            san.__salary=sal\n"
   ]
  },
  {
   "cell_type": "code",
   "execution_count": 71,
   "id": "b4525f71",
   "metadata": {},
   "outputs": [],
   "source": [
    "mp_board=Teacher('Ram sir',34000)"
   ]
  },
  {
   "cell_type": "code",
   "execution_count": 72,
   "id": "bb850fb3",
   "metadata": {},
   "outputs": [
    {
     "data": {
      "text/plain": [
       "'Ram sir'"
      ]
     },
     "execution_count": 72,
     "metadata": {},
     "output_type": "execute_result"
    }
   ],
   "source": [
    "mp_board.name"
   ]
  },
  {
   "cell_type": "code",
   "execution_count": 73,
   "id": "00dae2e5",
   "metadata": {},
   "outputs": [
    {
     "data": {
      "text/plain": [
       "34000"
      ]
     },
     "execution_count": 73,
     "metadata": {},
     "output_type": "execute_result"
    }
   ],
   "source": [
    "mp_board.see_salary"
   ]
  },
  {
   "cell_type": "code",
   "execution_count": 74,
   "id": "17f8799d",
   "metadata": {},
   "outputs": [],
   "source": [
    "mp_board.modify=35000"
   ]
  },
  {
   "cell_type": "code",
   "execution_count": 75,
   "id": "1678e6ad",
   "metadata": {},
   "outputs": [
    {
     "data": {
      "text/plain": [
       "35000"
      ]
     },
     "execution_count": 75,
     "metadata": {},
     "output_type": "execute_result"
    }
   ],
   "source": [
    "mp_board.modify"
   ]
  },
  {
   "cell_type": "code",
   "execution_count": 110,
   "id": "06546ba9",
   "metadata": {},
   "outputs": [],
   "source": [
    "#Q5.What is method overriding in python? Write a python code to demonstrate method overriding.\n",
    "# overriding are not exist in python.only it possible through the classmethod .it mean the __init_function\n",
    "#override to another function.\n",
    "class School():\n",
    "    def __init__(san,name,email):\n",
    "        san.name=name\n",
    "        san.email=email\n",
    "    @classmethod\n",
    "    def student(sam,name,email):\n",
    "        return sam(name,email)\n",
    "    def details(san):\n",
    "        return san.name,san.email"
   ]
  },
  {
   "cell_type": "code",
   "execution_count": 112,
   "id": "bb6eccfa",
   "metadata": {},
   "outputs": [],
   "source": [
    "san=School.student('VVP','vvp123@gmai.com')"
   ]
  },
  {
   "cell_type": "code",
   "execution_count": 113,
   "id": "b0e78f25",
   "metadata": {},
   "outputs": [
    {
     "data": {
      "text/plain": [
       "'VVP'"
      ]
     },
     "execution_count": 113,
     "metadata": {},
     "output_type": "execute_result"
    }
   ],
   "source": [
    "san.name"
   ]
  },
  {
   "cell_type": "code",
   "execution_count": 114,
   "id": "7b56bb1a",
   "metadata": {},
   "outputs": [
    {
     "data": {
      "text/plain": [
       "'vvp123@gmai.com'"
      ]
     },
     "execution_count": 114,
     "metadata": {},
     "output_type": "execute_result"
    }
   ],
   "source": [
    "san.email"
   ]
  },
  {
   "cell_type": "code",
   "execution_count": 116,
   "id": "d0d1e4a4",
   "metadata": {},
   "outputs": [
    {
     "data": {
      "text/plain": [
       "('VVP', 'vvp123@gmai.com')"
      ]
     },
     "execution_count": 116,
     "metadata": {},
     "output_type": "execute_result"
    }
   ],
   "source": [
    "san.details()"
   ]
  },
  {
   "cell_type": "code",
   "execution_count": null,
   "id": "bb65fb1e",
   "metadata": {},
   "outputs": [],
   "source": []
  }
 ],
 "metadata": {
  "kernelspec": {
   "display_name": "Python 3 (ipykernel)",
   "language": "python",
   "name": "python3"
  },
  "language_info": {
   "codemirror_mode": {
    "name": "ipython",
    "version": 3
   },
   "file_extension": ".py",
   "mimetype": "text/x-python",
   "name": "python",
   "nbconvert_exporter": "python",
   "pygments_lexer": "ipython3",
   "version": "3.9.13"
  }
 },
 "nbformat": 4,
 "nbformat_minor": 5
}
